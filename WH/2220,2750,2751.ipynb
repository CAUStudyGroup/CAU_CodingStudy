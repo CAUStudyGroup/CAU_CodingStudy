{
  "nbformat": 4,
  "nbformat_minor": 0,
  "metadata": {
    "colab": {
      "name": "Untitled10.ipynb",
      "version": "0.3.2",
      "provenance": []
    },
    "kernelspec": {
      "name": "python3",
      "display_name": "Python 3"
    }
  },
  "cells": [
    {
      "cell_type": "code",
      "metadata": {
        "id": "x-9ivkOwGIIz",
        "colab_type": "code",
        "colab": {
          "base_uri": "https://localhost:8080/",
          "height": 244
        },
        "outputId": "ee8486c2-9eb4-4ba0-b76e-4437f2d1da19"
      },
      "source": [
        "#2220 힙정렬\n",
        "def search(spot):\n",
        "    global arr\n",
        "    if spot==1:\n",
        "        arr[1]=2\n",
        "        arr[2]=1\n",
        "        return arr\n",
        "    j=spot\n",
        "    while j!=1:\n",
        "        temp=arr[j]\n",
        "        arr[j]=arr[j//2]\n",
        "        arr[j//2]=temp\n",
        "        j//=2\n",
        "    arr[1]=spot+1\n",
        "    arr[spot+1]=1\n",
        "\n",
        "n=int(input())\n",
        "arr=[0 for _ in'_'*(n+1)]\n",
        "if n==1:\n",
        "    arr[1]=1\n",
        "else:\n",
        "    for i in range(1,n):\n",
        "        search(i)\n",
        "arr=arr[1:]\n",
        "print(*arr)"
      ],
      "execution_count": 4,
      "outputs": [
        {
          "output_type": "error",
          "ename": "TypeError",
          "evalue": "ignored",
          "traceback": [
            "\u001b[0;31m---------------------------------------------------------------------------\u001b[0m",
            "\u001b[0;31mTypeError\u001b[0m                                 Traceback (most recent call last)",
            "\u001b[0;32m<ipython-input-4-ad81b86c10dc>\u001b[0m in \u001b[0;36m<module>\u001b[0;34m()\u001b[0m\n\u001b[1;32m     16\u001b[0m \u001b[0;34m\u001b[0m\u001b[0m\n\u001b[1;32m     17\u001b[0m \u001b[0mn\u001b[0m\u001b[0;34m=\u001b[0m\u001b[0msys\u001b[0m\u001b[0;34m.\u001b[0m\u001b[0mstdin\u001b[0m\u001b[0;34m.\u001b[0m\u001b[0mreadline\u001b[0m\u001b[0;34m(\u001b[0m\u001b[0;34m)\u001b[0m\u001b[0;34m\u001b[0m\u001b[0;34m\u001b[0m\u001b[0m\n\u001b[0;32m---> 18\u001b[0;31m \u001b[0marr\u001b[0m\u001b[0;34m=\u001b[0m\u001b[0;34m[\u001b[0m\u001b[0;36m0\u001b[0m \u001b[0;32mfor\u001b[0m \u001b[0m_\u001b[0m \u001b[0;32min\u001b[0m\u001b[0;34m'_'\u001b[0m\u001b[0;34m*\u001b[0m\u001b[0;34m(\u001b[0m\u001b[0mn\u001b[0m\u001b[0;34m+\u001b[0m\u001b[0;36m1\u001b[0m\u001b[0;34m)\u001b[0m\u001b[0;34m]\u001b[0m\u001b[0;34m\u001b[0m\u001b[0;34m\u001b[0m\u001b[0m\n\u001b[0m\u001b[1;32m     19\u001b[0m \u001b[0;32mif\u001b[0m \u001b[0mn\u001b[0m\u001b[0;34m==\u001b[0m\u001b[0;36m1\u001b[0m\u001b[0;34m:\u001b[0m\u001b[0;34m\u001b[0m\u001b[0;34m\u001b[0m\u001b[0m\n\u001b[1;32m     20\u001b[0m     \u001b[0marr\u001b[0m\u001b[0;34m[\u001b[0m\u001b[0;36m1\u001b[0m\u001b[0;34m]\u001b[0m\u001b[0;34m=\u001b[0m\u001b[0;36m1\u001b[0m\u001b[0;34m\u001b[0m\u001b[0;34m\u001b[0m\u001b[0m\n",
            "\u001b[0;31mTypeError\u001b[0m: must be str, not int"
          ]
        }
      ]
    },
    {
      "cell_type": "code",
      "metadata": {
        "id": "Eyt50bgKJzAv",
        "colab_type": "code",
        "colab": {
          "base_uri": "https://localhost:8080/",
          "height": 35
        },
        "outputId": "edb80398-e2df-4ce4-9ffa-109151256589"
      },
      "source": [
        "#2751\n",
        "import sys\n",
        "def merge(x):\n",
        "    if len(x)>1:#조건바꿈\n",
        "        mid=len(x)//2\n",
        "        left=x[:mid]\n",
        "        right=x[mid:]\n",
        "        merge(left)\n",
        "        merge(right)#함수 합침\n",
        "\n",
        "        lidx=0\n",
        "        ridx=0\n",
        "        chk=0\n",
        "        while len(left)>lidx and len(right)>ridx:#조건변경 or -> and\n",
        "            #if len(left)>0 and len(right)>0:\n",
        "            if left[lidx]<right[ridx]:\n",
        "                x[chk]=left[lidx]\n",
        "                #righ=right[1:]\n",
        "                lidx+=1\n",
        "            else:#조건변경 elif -> else\n",
        "                x[chk]=right[ridx]#r.append(left[0])\n",
        "                #left=left[1:]\n",
        "                ridx+=1\n",
        "            chk+=1\n",
        "\n",
        "        while lidx<len(left):\n",
        "            x[chk]=left[lidx]\n",
        "            lidx+=1\n",
        "            chk+=1\n",
        "        while ridx<len(right):\n",
        "            x[chk]=right[ridx]\n",
        "            ridx+=1\n",
        "            chk+=1\n",
        "    return l\n",
        "\n",
        "        elif len(left)>0:\n",
        "            r.append(left[0])\n",
        "            left=left[1:]\n",
        "        elif len(right)>0:\n",
        "            r.append(right[0])\n",
        "            right=right[1:]\n",
        "    return r\n",
        "s=sys.stdin.readline\n",
        "n=int(s());l=[]\n",
        "for _ in'_'*n:num=int(s());l.append(num)\n",
        "\n",
        "print(*merge(l),sep='\\n')\n",
        "\n",
        "#컴파일에러가 뜨는데 해결 못함\n",
        "\n",
        "#그냥 sort함수써서 해결함\n",
        "import sys;i=sys.stdin.readline;print(*sorted(int(i())for _ in'_'*int(i())),sep='\\n')"
      ],
      "execution_count": 23,
      "outputs": [
        {
          "output_type": "stream",
          "text": [
            "[],[],[],"
          ],
          "name": "stdout"
        }
      ]
    },
    {
      "cell_type": "code",
      "metadata": {
        "id": "GJGM5XWwou9p",
        "colab_type": "code",
        "colab": {}
      },
      "source": [
        "#2750 - Radix Sort\n",
        "\n",
        "\n",
        "import math\n",
        "\n",
        "class RadixSort:\n",
        "    def __init__(self):\n",
        "        self.array= []\n",
        "        self.maxdigit = 0\n",
        "\n",
        "\n",
        "    def radixSort(self ,array):\n",
        "        self.array = array\n",
        "        self.maxdigit = self.maxDigit()\n",
        "\n",
        "        for i in range(self.maxdigit):\n",
        "            tempBucket =  [[],[],[],[],[],[],[],[],[],[]]     #이 부분 해결이 필요함ㅜㅜ 스스로 생성되도록 해야 하는데\n",
        "            for j in range(len(self.array)):\n",
        "                bucket = int(self.array[j] % pow(10, i+1) / pow(10,i))\n",
        "                tempBucket[bucket].append(self.array[j])\n",
        "\n",
        "            self.assignArray(tempBucket)\n",
        "            self.printArray()\n",
        "\n",
        "\n",
        "    def maxDigit(self):\n",
        "        maxdigit  = 0\n",
        "        for i in self.array:\n",
        "            tempdigit = int(math.log10(i) + 1)\n",
        "            if( tempdigit > maxdigit):\n",
        "                maxdigit = tempdigit\n",
        "\n",
        "        return maxdigit\n",
        "\n",
        "    def assignArray(self, tempBucket):\n",
        "        temparray= []\n",
        "        for i in range(10):\n",
        "            for j in tempBucket[i]:\n",
        "                temparray.append(j)\n",
        "        self.array = temparray\n",
        "\n",
        "    def printArray(self):\n",
        "        for i in self.array:\n",
        "            print(i, end= \" \")\n",
        "        print(\"\")\n",
        "\n",
        "\n",
        "if __name__ == '__main__':\n",
        "    radixarray = list(input())\n",
        "    RadixSort().radixSort(radixarray)"
      ],
      "execution_count": 0,
      "outputs": []
    },
    {
      "cell_type": "code",
      "metadata": {
        "id": "5ma-nQn7sEpg",
        "colab_type": "code",
        "colab": {}
      },
      "source": [
        "#2750\n",
        "a=int(input())\n",
        "b=set()\n",
        "for c in range(a):\n",
        "    b.add(int(input()))\n",
        "b=list(b)\n",
        "b.sort()\n",
        "for c in range(len(b)):\n",
        "    print(b[c])"
      ],
      "execution_count": 0,
      "outputs": []
    }
  ]
}